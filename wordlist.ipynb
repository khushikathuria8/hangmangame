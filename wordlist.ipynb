{
 "cells": [
  {
   "cell_type": "code",
   "execution_count": 1,
   "metadata": {},
   "outputs": [],
   "source": [
    "words=['amaze','annoy','maths','laugh','tiger','faith','seven','world','water','pizza','fruit','death']"
   ]
  },
  {
   "cell_type": "code",
   "execution_count": 2,
   "metadata": {},
   "outputs": [],
   "source": [
    "import random"
   ]
  },
  {
   "cell_type": "code",
   "execution_count": 3,
   "metadata": {},
   "outputs": [],
   "source": [
    "def get_word():\n",
    "    word=random.choice(word_list)\n",
    "    return word.upper()\n"
   ]
  },
  {
   "cell_type": "code",
   "execution_count": 9,
   "metadata": {},
   "outputs": [],
   "source": [
    "def play(word):\n",
    "    word_completion = \"_\" * len(word)\n",
    "    guesses=False \n",
    "    guessed_letters = []\n",
    "    guessed_words=[]\n",
    "    tries=6\n",
    "    print('lets play hangman')\n",
    "    print(display_hangman(tries))\n",
    "    print(word_completition)\n",
    "    print('\\n')\n",
    "    while not guessed and tries>0:\n",
    "        guess=input('please guess a letter')\n",
    "        if len(guess)==1 and guess.isalpha():\n",
    "            if guess in guessed_letters:\n",
    "                print('you already guessses the letter',guess)\n",
    "            elif guess not in word:\n",
    "                print(guess,'is not in the word')\n",
    "                tries-=1\n",
    "                guessed_letters.append(guess)\n",
    "            else:\n",
    "                print('good job',guess,'is the word')\n",
    "                guessed_letters.append(guess)\n",
    "                word_as_list = list(word_completion)                \n",
    "                indices=[i for i,letter in enumerate(words) if letter==guess]\n",
    "            for index in indices:\n",
    "                word_as_list[index]=guess\n",
    "                word_completion =\"\".join(word_as_list)\n",
    "            if \"_\" not in word_completion:\n",
    "                guessed = True\n",
    "            elif len(guess)==len(word):\n",
    "                pass\n",
    "            else:\n",
    "                print('game over')\n",
    "    \n",
    "                \n",
    "def main():\n",
    "    words=getRandom()\n",
    "    print(word)\n",
    "    play(word)\n",
    "                  \n",
    "                "
   ]
  },
  {
   "cell_type": "code",
   "execution_count": null,
   "metadata": {},
   "outputs": [],
   "source": []
  }
 ],
 "metadata": {
  "kernelspec": {
   "display_name": "Python 3",
   "language": "python",
   "name": "python3"
  },
  "language_info": {
   "codemirror_mode": {
    "name": "ipython",
    "version": 3
   },
   "file_extension": ".py",
   "mimetype": "text/x-python",
   "name": "python",
   "nbconvert_exporter": "python",
   "pygments_lexer": "ipython3",
   "version": "3.7.6"
  }
 },
 "nbformat": 4,
 "nbformat_minor": 4
}
